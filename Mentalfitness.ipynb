{
  "nbformat": 4,
  "nbformat_minor": 0,
  "metadata": {
    "colab": {
      "provenance": [],
      "authorship_tag": "ABX9TyPYlZLRSRyMDbAajQcYOcjP",
      "include_colab_link": true
    },
    "kernelspec": {
      "name": "python3",
      "display_name": "Python 3"
    },
    "language_info": {
      "name": "python"
    }
  },
  "cells": [
    {
      "cell_type": "markdown",
      "metadata": {
        "id": "view-in-github",
        "colab_type": "text"
      },
      "source": [
        "<a href=\"https://colab.research.google.com/github/keethu11/css/blob/main/Mentalfitness.ipynb\" target=\"_parent\"><img src=\"https://colab.research.google.com/assets/colab-badge.svg\" alt=\"Open In Colab\"/></a>"
      ]
    },
    {
      "cell_type": "code",
      "execution_count": null,
      "metadata": {
        "id": "C21lWg8rALfJ"
      },
      "outputs": [],
      "source": [
        "import warnings\n",
        "warnings.filterwarnings('ignore')\n",
        "import tensorflow as tf\n",
        "import pandas as pd\n",
        "import numpy as np\n",
        "from sklearn.model_selection import train_test_split\n",
        "import seaborn as sns\n",
        "from sklearn.preprocessing import StandardScaler\n",
        "import matplotlib.pyplot as plt\n",
        "from sklearn.ensemble import RandomForestRegressor\n",
        "import sklearn\n",
        "import plotly.express as px\n",
        "from google.colab import drive\n",
        "#mounting Drive\n",
        "drive.mount('/content/drive')\n",
        "df1=pd.read_csv(\"/content/drive/MyDrive/mental-and-substance-use-as-share-of-disease (2).csv\")\n",
        "df2=pd.read_csv(\"/content/drive/MyDrive/prevalence-by-mental-and-substance-use-disorder (2).csv\")\n",
        "\n",
        "#data Cleaning\n",
        "df1.head()\n",
        "df1.describe(),df1.info()\n",
        "df2.describe(),df2.info()\n",
        "df=pd.merge(df1,df2)\n",
        "df.isnull().sum()\n",
        "df.drop('Code',axis=1,inplace=True)\n",
        "df.set_axis(['Country','Year','Schizophrenia','Bipolar_disorder','Eating_disorder','Anxiety','drug_usage','depression','Alcohol','mental_fitness'],axis='columns',inplace=True)\n",
        "#plotting\n",
        "\n",
        "#Pair pLOT\n",
        "plt.figure(figsize=( 12,6))\n",
        "sns.pairplot(df,corner=True)\n",
        "\n",
        "#Heatmaps\n",
        "plt.figure(figsize=(12,6))\n",
        "sns.heatmap(df.corr(),annot=True,cmap='Blues')\n",
        "plt.plot()\n",
        "#Pie chart\n",
        "fig=px.pie(df, values='mental_fitness',names='Year')\n",
        "fig.show()\n",
        "fig=px.line(df, x='Year', y='mental_fitness', color='Country', markers=True,color_discrete_sequence=['red','blue','green'], template='plotly_dark')\n",
        "fig.show()\n",
        "\n",
        "#Splitting\n",
        "scaler = StandardScaler()\n",
        "x = scaler.fit_transform(df[['Schizophrenia', 'Bipolar_disorder', 'Eating_disorder', 'Anxiety', 'drug_usage', 'depression', 'Alcohol']])\n",
        "y = df[['mental_fitness']].to_numpy()\n",
        "x_train, x_test, y_train, y_test = train_test_split(x, y)\n",
        "\n",
        "#ML Implementation And Evaluation\n",
        "ml = RandomForestRegressor()\n",
        "ml.fit(x_train, y_train)\n",
        "predicted_values = ml.predict(x_test)\n",
        "plt.figure(figsize=(10, 6))\n",
        "plt.plot(y_test[:100])\n",
        "plt.plot(predicted_values[:100])\n",
        "plt.legend(['true', 'predicted'])\n",
        "plt.title('Mean Square Error ' + str(sklearn.metrics.mean_squared_error(y_test, predicted_values)))\n",
        "plt.show()\n",
        "mse = sklearn.metrics.mean_squared_error(y_test, predicted_values)\n",
        "rmse = np.sqrt(mse)\n",
        "r2_score = sklearn.metrics.r2_score(y_test, predicted_values)\n",
        "print(\"Mean Squared Error (MSE):\", mse)\n",
        "print(\"Root Mean Squared Error (RMSE):\", rmse)\n",
        "print(\"R2 Score:\", r2_score)\n"
      ]
    }
  ]
}